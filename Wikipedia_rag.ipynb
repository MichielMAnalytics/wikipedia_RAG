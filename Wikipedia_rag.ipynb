{
 "cells": [
  {
   "cell_type": "code",
   "execution_count": null,
   "metadata": {},
   "outputs": [],
   "source": [
    "# 1. Set up your environment"
   ]
  },
  {
   "cell_type": "code",
   "execution_count": null,
   "metadata": {},
   "outputs": [],
   "source": [
    "!pip install -qU \\\n",
    "  pinecone-client[grpc]==3.0.0 \\\n",
    "  pinecone-datasets==0.7.0 \\\n",
    "  langchain-pinecone==0.0.3 \\\n",
    "  langchain-openai==0.0.7 \\\n",
    "  langchain==0.1.9\n"
   ]
  },
  {
   "cell_type": "code",
   "execution_count": null,
   "metadata": {},
   "outputs": [],
   "source": [
    "from dotenv import load_dotenv\n",
    "load_dotenv()\n",
    "\n",
    "import os\n",
    "pinecone_api_key = os.environ.get('PINECONE_API_KEY')\n",
    "openai_api_key = os.environ.get('OPENAI_API_KEY')\n"
   ]
  },
  {
   "cell_type": "code",
   "execution_count": null,
   "metadata": {},
   "outputs": [],
   "source": [
    "#2. Build the knowledge base"
   ]
  },
  {
   "cell_type": "code",
   "execution_count": null,
   "metadata": {},
   "outputs": [],
   "source": [
    "# from pinecone_datasets import list_datasets\n",
    "\n",
    "# list_datasets(as_df=True)"
   ]
  },
  {
   "cell_type": "code",
   "execution_count": null,
   "metadata": {},
   "outputs": [],
   "source": [
    "import pinecone_datasets  \n",
    "dataset = pinecone_datasets.load_dataset('wikipedia-simple-text-embedding-ada-002-100K')  \n",
    "len(dataset)  \n",
    "\n",
    "# Response:\n",
    "# 100000\n"
   ]
  },
  {
   "cell_type": "code",
   "execution_count": null,
   "metadata": {},
   "outputs": [],
   "source": [
    "#Reduce the dataset and format it for upserting into Pinecone:\n",
    "\n",
    "# we will use rows of the dataset up to index 30_000\n",
    "dataset.documents.drop(dataset.documents.index[30_000:], inplace=True)\n",
    "# we drop sparse_values as they are not needed for this example  \n",
    "dataset.documents.drop(['metadata'], axis=1, inplace=True)  \n",
    "dataset.documents.rename(columns={'blob': 'metadata'}, inplace=True)  \n"
   ]
  },
  {
   "cell_type": "code",
   "execution_count": null,
   "metadata": {},
   "outputs": [],
   "source": [
    "#3. Index the data in Pinecone"
   ]
  },
  {
   "cell_type": "code",
   "execution_count": null,
   "metadata": {},
   "outputs": [],
   "source": [
    "#Decide whether to use a serverless or pod-based index.\n",
    "use_serverless = True  \n",
    "\n",
    "from pinecone.grpc import PineconeGRPC as Pinecone\n",
    "from pinecone import ServerlessSpec, PodSpec  \n",
    "import time  \n",
    "# configure client  \n",
    "pc = Pinecone(api_key=pinecone_api_key)  \n",
    "if use_serverless:  \n",
    "    spec = ServerlessSpec(cloud='aws', region='us-east-1')  \n",
    "else:  \n",
    "    # if not using a starter index, you should specify a pod_type too  \n",
    "    spec = PodSpec()  \n",
    "# check for and delete index if already exists  \n",
    "index_name = 'langchain-retrieval-augmentation-fast'  \n",
    "if index_name in pc.list_indexes().names():  \n",
    "    pc.delete_index(index_name)  \n",
    "# create a new index  \n",
    "pc.create_index(  \n",
    "    index_name,  \n",
    "    dimension=1536,  # dimensionality of text-embedding-ada-002  \n",
    "    metric='dotproduct',  \n",
    "    spec=spec  \n",
    ")  \n",
    "# wait for index to be initialized  \n",
    "while not pc.describe_index(index_name).status['ready']:  \n",
    "    time.sleep(1)  \n"
   ]
  },
  {
   "cell_type": "code",
   "execution_count": null,
   "metadata": {},
   "outputs": [],
   "source": [
    "index = pc.Index(index_name)  \n",
    "index.describe_index_stats()  \n",
    "\n",
    "# Response:\n",
    "# {'dimension': 1536,  \n",
    "# 'index_fullness': 0.0,  \n",
    "# 'namespaces': {},  \n",
    "# 'total_vector_count': 0}  \n",
    "\n"
   ]
  },
  {
   "cell_type": "code",
   "execution_count": null,
   "metadata": {},
   "outputs": [],
   "source": [
    "for batch in dataset.iter_documents(batch_size=100):  \n",
    "    index.upsert(batch)  \n",
    "\n",
    "index.describe_index_stats()  \n",
    "\n",
    "# Response:\n",
    "# {'dimension': 1536,  \n",
    "# 'index_fullness': 0.0,  \n",
    "# 'namespaces': {},  \n",
    "# 'total_vector_count': 70000} \n"
   ]
  },
  {
   "cell_type": "code",
   "execution_count": null,
   "metadata": {},
   "outputs": [],
   "source": []
  },
  {
   "cell_type": "code",
   "execution_count": null,
   "metadata": {},
   "outputs": [],
   "source": [
    "#4. Initialize a LangChain vector store\n",
    "from langchain_openai import OpenAIEmbeddings  \n",
    "# get openai api key from platform.openai.com  \n",
    "model_name = 'text-embedding-ada-002'  \n",
    "embeddings = OpenAIEmbeddings(  \n",
    "    model=model_name,  \n",
    "    openai_api_key=openai_api_key  \n",
    ")  \n",
    "\n"
   ]
  },
  {
   "cell_type": "code",
   "execution_count": null,
   "metadata": {},
   "outputs": [],
   "source": [
    "from langchain_pinecone import PineconeVectorStore  \n",
    "text_field = \"text\"  \n",
    "vectorstore = PineconeVectorStore(  \n",
    "    index, embeddings, text_field  \n",
    ")  "
   ]
  },
  {
   "cell_type": "code",
   "execution_count": null,
   "metadata": {},
   "outputs": [],
   "source": [
    "query = \"who was Benito Mussolini?\"  \n",
    "vectorstore.similarity_search(  \n",
    "    query,  # our search query  \n",
    "    k=3  # return 3 most relevant docs  \n",
    ")  \n",
    "\n",
    "# Response:\n",
    "# [Document(page_content='Benito Amilcare Andrea Mussolini KSMOM GCTE (29 July 1883 – 28 April 1945) was an Italian politician and journalist...', metadata={'chunk': 0.0, 'source': 'https://simple.wikipedia.org/wiki/Benito%20Mussolini', 'title': 'Benito Mussolini', 'wiki-id': '6754'}),  \n",
    "# Document(page_content='Fascism as practiced by Mussolini\\nMussolini\\'s form of Fascism, \"Italian Fascism\"- unlike Nazism, the racist ideology...', metadata={'chunk': 1.0, 'source': 'https://simple.wikipedia.org/wiki/Benito%20Mussolini', 'title': 'Benito Mussolini', 'wiki-id': '6754'}),  \n",
    "# Document(page_content='Veneto was made part of Italy in 1866 after a war with Austria. Italian soldiers won Latium in 1870. That was when...', metadata={'chunk': 5.0, 'source': 'https://simple.wikipedia.org/wiki/Italy', 'title': 'Italy', 'wiki-id': '363'})]\n"
   ]
  },
  {
   "cell_type": "code",
   "execution_count": null,
   "metadata": {},
   "outputs": [],
   "source": [
    "#5. Use Pinecone and LangChain for RAG"
   ]
  },
  {
   "cell_type": "code",
   "execution_count": null,
   "metadata": {},
   "outputs": [],
   "source": [
    "from langchain_openai import ChatOpenAI  \n",
    "from langchain.chains import RetrievalQA  \n",
    "# completion llm  \n",
    "llm = ChatOpenAI(  \n",
    "    openai_api_key=openai_api_key,  \n",
    "    model_name='gpt-3.5-turbo',  \n",
    "    temperature=0.0  \n",
    ")  \n",
    "qa = RetrievalQA.from_chain_type(  \n",
    "    llm=llm,  \n",
    "    chain_type=\"stuff\",  \n",
    "    retriever=vectorstore.as_retriever()  \n",
    ")  \n",
    "qa.run(query)  \n",
    "\n",
    "# Response:\n",
    "# Benito Mussolini was an Italian politician and journalist who served as the Prime Minister of Italy from 1922 until 1943. He was the leader of the National Fascist Party and played a significant role in the rise of fascism in Italy...\n"
   ]
  },
  {
   "cell_type": "code",
   "execution_count": null,
   "metadata": {},
   "outputs": [],
   "source": [
    "from langchain.chains import RetrievalQAWithSourcesChain  \n",
    "qa_with_sources = RetrievalQAWithSourcesChain.from_chain_type(  \n",
    "    llm=llm,  \n",
    "    chain_type=\"stuff\",  \n",
    "    retriever=vectorstore.as_retriever()  \n",
    ")  \n",
    "qa_with_sources(query)\n",
    "\n",
    "# Response:\n",
    "# {'question': 'who was Benito Mussolini?',  \n",
    "# 'answer': \"Benito Mussolini was an Italian politician and journalist who served as the Prime Minister of Italy from 1922 until 1943. He was the leader of the National Fascist Party and played a significant role in the rise of fascism in Italy...\",  \n",
    "# 'sources': 'https://simple.wikipedia.org/wiki/Benito%20Mussolini'}  \n"
   ]
  },
  {
   "cell_type": "code",
   "execution_count": null,
   "metadata": {},
   "outputs": [],
   "source": [
    "pc.delete_index(index_name)\n"
   ]
  }
 ],
 "metadata": {
  "kernelspec": {
   "display_name": "venv",
   "language": "python",
   "name": "python3"
  },
  "language_info": {
   "codemirror_mode": {
    "name": "ipython",
    "version": 3
   },
   "file_extension": ".py",
   "mimetype": "text/x-python",
   "name": "python",
   "nbconvert_exporter": "python",
   "pygments_lexer": "ipython3",
   "version": "3.11.1"
  }
 },
 "nbformat": 4,
 "nbformat_minor": 2
}
